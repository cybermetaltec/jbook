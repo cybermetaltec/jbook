{
 "cells": [
  {
   "cell_type": "code",
   "execution_count": 9,
   "id": "0036d5bb",
   "metadata": {},
   "outputs": [
    {
     "name": "stdout",
     "output_type": "stream",
     "text": [
      "                   High          Low         Open        Close  Volume  \\\n",
      "Date                                                                     \n",
      "2017-01-03  3136.456055  3105.309082  3105.309082  3135.920898  141600   \n",
      "2017-01-04  3160.103027  3130.114990  3133.787109  3158.793945  167900   \n",
      "2017-01-05  3168.501953  3154.281006  3157.906006  3165.410889  174700   \n",
      "2017-01-06  3172.034912  3153.024902  3163.775879  3154.321045  183700   \n",
      "2017-01-09  3173.135986  3147.735107  3148.531982  3171.236084  171700   \n",
      "\n",
      "              Adj Close  \n",
      "Date                     \n",
      "2017-01-03  3135.920898  \n",
      "2017-01-04  3158.793945  \n",
      "2017-01-05  3165.410889  \n",
      "2017-01-06  3154.321045  \n",
      "2017-01-09  3171.236084  \n"
     ]
    }
   ],
   "source": [
    "import pandas_datareader.data as web\n",
    "import datetime\n",
    "#获取上证指数的2017.1.1日至今的交易数据\n",
    "df_stockload = web.DataReader(\"000001.SS\", \"yahoo\", datetime.datetime(2017,1,1), datetime.date.today())\n",
    "\n",
    "print(df_stockload.head())  # 查看前几行"
   ]
  },
  {
   "cell_type": "code",
   "execution_count": 1,
   "id": "46a549f9",
   "metadata": {},
   "outputs": [
    {
     "name": "stdout",
     "output_type": "stream",
     "text": [
      "  stock_code stock_name     candle_end_time   open   high    low  close  pre_close      amount        volume   buy1  sell1 status\n",
      "0   sh600000       浦发银行 2022-06-20 15:00:03   7.95   7.98   7.91   7.91       7.97  30065154.0  2.383203e+08   7.91   7.92     00\n",
      "1   sz000002       万 科Ａ 2022-06-20 15:00:03  18.33  18.69  18.22  18.58      18.15  92346930.0  1.708866e+09  18.58  18.59     00\n",
      "2   sh600002       齐鲁石化 2022-06-17 11:45:00   0.00   0.00   0.00   0.00       0.00         0.0  0.000000e+00   0.00   0.00     -3\n",
      "3   sz000003      PT金田A 2022-06-17 11:45:00   0.00   0.00   0.00   0.00       0.00         0.0  0.000000e+00   0.00   0.00     -3\n",
      "4   sz300124       汇川技术 2022-06-20 15:35:45  64.95  66.47  64.50  66.01      64.95  10023928.0  6.605912e+08  66.00  66.01     00\n",
      "5   sh600276       恒瑞医药 2022-06-20 15:00:00  33.52  33.96  33.00  33.46      33.37  65497153.0  2.189657e+09  33.46  33.47     00\n",
      "6   sz002952       亚世光电 2022-06-20 15:00:00  11.42  11.59  11.35  11.55      11.35   1491900.0  1.713496e+07  11.55  11.57     00\n"
     ]
    },
    {
     "name": "stderr",
     "output_type": "stream",
     "text": [
      "D:\\anaconda\\envs\\geekdata\\lib\\site-packages\\IPython\\core\\interactiveshell.py:3457: FutureWarning: Could not cast to float64, falling back to object. This behavior is deprecated. In a future version, when a dtype is passed to 'DataFrame', either all columns will be cast to that dtype, or a TypeError will be raised\n",
      "  exec(code_obj, self.user_global_ns, self.user_ns)\n"
     ]
    }
   ],
   "source": [
    "import requests \n",
    "import pandas as pd\n",
    "pd.set_option('expand_frame_repr', False)  # 当列太多时不换行\n",
    "pd.set_option('display.max_rows', 5000)  # 最多显示数据的行数\n",
    "\n",
    "# =====神奇的网址\n",
    "# 返回一个股票的数据：https://hq.sinajs.cn/list=sz000001，修改股票代码\n",
    "# 返回一串股票的数据：https://hq.sinajs.cn/list=sh600000,sz000002,sz300001\n",
    "# 正常网址：https://finance.sina.com.cn/realstock/company/sh600000/nc.shtml,\n",
    "\n",
    "# =====构建网址\n",
    "# 正常股票：sh600000 sz000002，退市股票：sh600002 sz000003、停牌股票：sz300124，除权股票：sh600276，上市新股：sz002952\n",
    "stock_code_list = ['sh600000', 'sz000002', 'sh600002', 'sz000003', 'sz300124', 'sh600276', 'sz002952']\n",
    "headers={'Referer':'https://finance.sina.com.cn/'}\n",
    "url = \"http://hq.sinajs.cn/list=\" + \",\".join(stock_code_list)\n",
    "\n",
    "# =====抓取数据\n",
    "content = requests.get(url,headers=headers).text  # 使用python自带的库，从网络上获取信息\n",
    "\n",
    "# =====将数据转换成DataFrame\n",
    "content = content.strip()  # 去掉文本前后的空格、回车等\n",
    "data_line = content.split('\\n')  # 每行是一个股票的数据\n",
    "data_line = [i.replace('var hq_str_', '').split(',') for i in data_line]\n",
    "df = pd.DataFrame(data_line, dtype='float')  #\n",
    "\n",
    "# =====对DataFrame进行整理\n",
    "df[0] = df[0].str.split('=\"')\n",
    "df['stock_code'] = df[0].str[0].str.strip()\n",
    "df['stock_name'] = df[0].str[-1].str.strip()\n",
    "df['candle_end_time'] = df[30] + ' ' + df[31]  # 股票市场的K线，是普遍以当跟K线结束时间来命名的\n",
    "df['candle_end_time'] = pd.to_datetime(df['candle_end_time'])\n",
    "\n",
    "rename_dict = {1: 'open', 2: 'pre_close', 3: 'close', 4: 'high', 5: 'low', 6: 'buy1', 7: 'sell1',\n",
    "               8: 'amount', 9: 'volume', 32: 'status'}  # 自己去对比数据，会有新的返现\n",
    "# 其中amount单位是股，volume单位是元\n",
    "df.rename(columns=rename_dict, inplace=True)\n",
    "df['status'] = df['status'].str.strip('\";')\n",
    "df = df[['stock_code', 'stock_name', 'candle_end_time', 'open', 'high', 'low', 'close', 'pre_close', 'amount', 'volume',\n",
    "         'buy1', 'sell1', 'status']]\n",
    "\n",
    "print(df)\n",
    "# =====考察退市、停牌股票\n",
    "# 根据特征去删除股票数据\n",
    "# 通过amount来考察？\n",
    "df = df[df['open'] - 0 > 0.00001]\n",
    "\n",
    "# 如何区分退市和停牌？可能可以通过pre_close，还有status\n",
    "\n",
    "# =====考察新上市的股票\n",
    "# 考察sz002952\n",
    "# 对于新上市的股票，pre_close指的是发行价\n",
    "\n",
    "# =====考察除权股票\n",
    "# 考察sh600276\n",
    "# 对于今天除权的股票，pre_close不是昨天真正的收盘价，而是交易所计算出来并且公布的昨天的收盘价。\n",
    "# 有了这个数据，才能算出这个股票真正的涨跌幅"
   ]
  },
  {
   "cell_type": "code",
   "execution_count": null,
   "id": "18c3f496",
   "metadata": {},
   "outputs": [],
   "source": []
  }
 ],
 "metadata": {
  "kernelspec": {
   "display_name": "Python 3 (ipykernel)",
   "language": "python",
   "name": "python3"
  },
  "language_info": {
   "codemirror_mode": {
    "name": "ipython",
    "version": 3
   },
   "file_extension": ".py",
   "mimetype": "text/x-python",
   "name": "python",
   "nbconvert_exporter": "python",
   "pygments_lexer": "ipython3",
   "version": "3.7.13"
  }
 },
 "nbformat": 4,
 "nbformat_minor": 5
}
