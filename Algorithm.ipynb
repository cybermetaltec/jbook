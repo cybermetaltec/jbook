{
 "cells": [
  {
   "cell_type": "code",
   "execution_count": 7,
   "id": "8f76376b",
   "metadata": {},
   "outputs": [],
   "source": [
    "#https://leetcode-cn.com/problems/move-zeroes/\n",
    "\n",
    "class Solution(object):\n",
    "    def moveZeroes(self, nums):\n",
    "        j = 0\n",
    "        for i in range(len(nums)):\n",
    "            if nums[i] != 0:\n",
    "                nums[j],nums[i] = nums[i],nums[j]\n",
    "                j +=1\n",
    "\n",
    "# nums = [0,1,0,3,12]\n",
    "# nums = []\n",
    "#nums = [0,0,0,0,0,]\n",
    "# s = Solution()\n",
    "# s.moveZeroes(nums)"
   ]
  },
  {
   "cell_type": "code",
   "execution_count": 6,
   "id": "701dcc70",
   "metadata": {
    "scrolled": true
   },
   "outputs": [],
   "source": [
    "#https://leetcode-cn.com/problems/move-zeroes/\n",
    "class Solution:\n",
    "    def moveZeroes(self, nums):\n",
    "        \"\"\"\n",
    "        Do not return anything, modify nums in-place instead.\n",
    "        \"\"\"\n",
    "        nums.sort(key=lambda x:x==0)\n",
    "        \n",
    "# nums = [0,1,0,12,11,5,9,11,7]\n",
    "#nums = []\n",
    "#nums = [0,0,0,0,0,]\n",
    "# s = Solution()\n",
    "# s.moveZeroes(nums)\n",
    "# print(nums)"
   ]
  },
  {
   "cell_type": "code",
   "execution_count": 5,
   "id": "cb75d7b1",
   "metadata": {},
   "outputs": [],
   "source": [
    "#https://leetcode-cn.com/problems/container-with-most-water/\n",
    "class Solution:\n",
    "    def maxArea(self, height):\n",
    "        m,i,j=0,0,len(height)-1\n",
    "        while(i<j):\n",
    "            left,right = height[i], height[j]\n",
    "            print(i,j,left,right)\n",
    "            m = max(min(left,right) * (j-i+1),m)\n",
    "            if left < right:\n",
    "                i+=1\n",
    "            else:\n",
    "                j-=1\n",
    "        return m\n",
    "\n",
    "# height = [1,8,6,2,5,4,8,3,7]\n",
    "# s = Solution()\n",
    "# s.maxArea(height)"
   ]
  },
  {
   "cell_type": "code",
   "execution_count": 41,
   "id": "c389fad9",
   "metadata": {},
   "outputs": [
    {
     "name": "stdout",
     "output_type": "stream",
     "text": [
      "[97, 82, 79, 54, 88, 31, 72, 75, 75, 68, 70, 23, 68, 91, 5, 83, 14, 54, 32, 73, 76, 34, 75, 66, 54, 76, 78, 3, 66, 23, 5, 41, 27, 10, 53, 40, 27, 60, 48, 43, 60, 76, 94, 56, 29, 87, 78, 86, 5, 52, 10, 96, 40, 26, 22, 4, 100, 65, 45, 86, 65, 71, 12, 92, 23, 34, 85, 18, 33, 15, 1, 13, 48, 17, 2, 16, 33, 31, 25, 12, 26, 84, 99, 48, 66, 57, 66, 87, 41, 0, 3, 2, 41, 65, 42, 45, 70, 41, 15, 94]\n"
     ]
    }
   ],
   "source": [
    "# 生产随机数列表\n",
    "# n 生成个数\n",
    "# l，h 生成数字的范围最大和最小\n",
    "import random\n",
    "def genNum(n,l,h):\n",
    "    ret = []\n",
    "    for i in range(n):\n",
    "        ret.append(random.randint(l,h))\n",
    "    return ret\n",
    "print(genNum(100,0,100))    "
   ]
  },
  {
   "cell_type": "code",
   "execution_count": 3,
   "id": "76120dbe",
   "metadata": {},
   "outputs": [],
   "source": [
    "#https://leetcode.com/problems/climbing-stairs/\n",
    "class Solution:\n",
    "    def climbStairs(self, n: int) -> int:\n",
    "        f1,f2,f3 = 1,2,3\n",
    "        for i in range(n-3):\n",
    "            f1 = f2\n",
    "            f2 = f3\n",
    "            f3 = f1 +f2\n",
    "            print(f1,f2,f3)\n",
    "        return f3 if n >3 else n"
   ]
  },
  {
   "cell_type": "code",
   "execution_count": 22,
   "id": "4ee7bfeb",
   "metadata": {},
   "outputs": [],
   "source": [
    "#https://leetcode.cn/problems/two-sum/\n",
    "class Solution:\n",
    "    def twoSum(self, nums, target):\n",
    "        table = dict(zip(nums,range(len(nums))))\n",
    "        for i in range(len(nums)):\n",
    "            search = target - nums[i]\n",
    "            search_index = table.get(search)\n",
    "            if search_index != None and i != search_index :\n",
    "                return [i,search_index]\n",
    "        return []\n",
    "    \n",
    "# nums = [2,7,11,15]\n",
    "# Solution().twoSum(nums,18)"
   ]
  },
  {
   "cell_type": "code",
   "execution_count": 1,
   "id": "8aa87640",
   "metadata": {},
   "outputs": [],
   "source": [
    "#https://leetcode.cn/problems/two-sum/    best\n",
    "from typing import List\n",
    "class Solution:\n",
    "    def twoSum(self, nums: List[int], target: int) -> List[int]:\n",
    "        table = {}\n",
    "        for i,v in enumerate(nums):\n",
    "            check = target - v\n",
    "            if check in table:\n",
    "                return [table.get(check),i]\n",
    "            table[v] = i\n",
    "        return []\n",
    "    \n",
    "# nums = [2,7,11,15]\n",
    "# Solution().twoSum(nums,18)"
   ]
  },
  {
   "cell_type": "code",
   "execution_count": null,
   "id": "371cb80b",
   "metadata": {},
   "outputs": [],
   "source": [
    "from typing import List\n",
    "\n",
    "\n",
    "class Solution:\n",
    "    def threeSum(self, nums: List[int]) -> List[List[int]]:\n",
    "        nums.sort()\n",
    "        i, li = 0, len(nums) - 1\n",
    "        ret = []\n",
    "        while i < li - 1:\n",
    "            j = i + 1\n",
    "            k = li\n",
    "            while j < k:\n",
    "                all = nums[i] + nums[j] + nums[k]\n",
    "                if all < 0:\n",
    "                    j += 1\n",
    "                elif all > 0:\n",
    "                    k -= 1\n",
    "                else:\n",
    "                    ret.append([nums[i], nums[j], nums[k]])\n",
    "                    while j < k and nums[j] == nums[j + 1]:\n",
    "                        j += 1\n",
    "                    while j < k and nums[k] == nums[k - 1]:\n",
    "                        k -= 1\n",
    "                    j += 1\n",
    "                    k -= 1\n",
    "            while li - i > 2 and nums[i] == nums[i + 1]:\n",
    "                i += 1\n",
    "            i += 1\n",
    "        return ret\n",
    "\n",
    "\n",
    "# nums = [-1, 0, 1, 2, -1, -4]\n",
    "nums = [-1, 0, 1, 1, 2, 2, -1, -1, -1, -4]\n",
    "# nums = [-1,0,1,2,-1,-4]\n",
    "# nums = [0, 0, 0, 0, 0]\n",
    "ret = Solution().threeSum(nums)\n",
    "print(ret)"
   ]
  },
  {
   "cell_type": "code",
   "execution_count": null,
   "id": "89e5defb",
   "metadata": {},
   "outputs": [],
   "source": []
  },
  {
   "cell_type": "code",
   "execution_count": null,
   "id": "3f64c3a3",
   "metadata": {},
   "outputs": [],
   "source": []
  }
 ],
 "metadata": {
  "kernelspec": {
   "display_name": "Python 3 (ipykernel)",
   "language": "python",
   "name": "python3"
  },
  "language_info": {
   "codemirror_mode": {
    "name": "ipython",
    "version": 3
   },
   "file_extension": ".py",
   "mimetype": "text/x-python",
   "name": "python",
   "nbconvert_exporter": "python",
   "pygments_lexer": "ipython3",
   "version": "3.7.13"
  }
 },
 "nbformat": 4,
 "nbformat_minor": 5
}
