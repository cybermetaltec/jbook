{
 "cells": [
  {
   "cell_type": "code",
   "execution_count": 9,
   "id": "0036d5bb",
   "metadata": {},
   "outputs": [
    {
     "name": "stdout",
     "output_type": "stream",
     "text": [
      "                   High          Low         Open        Close  Volume  \\\n",
      "Date                                                                     \n",
      "2017-01-03  3136.456055  3105.309082  3105.309082  3135.920898  141600   \n",
      "2017-01-04  3160.103027  3130.114990  3133.787109  3158.793945  167900   \n",
      "2017-01-05  3168.501953  3154.281006  3157.906006  3165.410889  174700   \n",
      "2017-01-06  3172.034912  3153.024902  3163.775879  3154.321045  183700   \n",
      "2017-01-09  3173.135986  3147.735107  3148.531982  3171.236084  171700   \n",
      "\n",
      "              Adj Close  \n",
      "Date                     \n",
      "2017-01-03  3135.920898  \n",
      "2017-01-04  3158.793945  \n",
      "2017-01-05  3165.410889  \n",
      "2017-01-06  3154.321045  \n",
      "2017-01-09  3171.236084  \n"
     ]
    }
   ],
   "source": [
    "import pandas_datareader.data as web\n",
    "import datetime\n",
    "#获取上证指数的2017.1.1日至今的交易数据\n",
    "df_stockload = web.DataReader(\"000001.SS\", \"yahoo\", datetime.datetime(2017,1,1), datetime.date.today())\n",
    "\n",
    "print(df_stockload.head())  # 查看前几行"
   ]
  },
  {
   "cell_type": "code",
   "execution_count": null,
   "id": "46a549f9",
   "metadata": {},
   "outputs": [],
   "source": []
  }
 ],
 "metadata": {
  "kernelspec": {
   "display_name": "Python 3 (ipykernel)",
   "language": "python",
   "name": "python3"
  },
  "language_info": {
   "codemirror_mode": {
    "name": "ipython",
    "version": 3
   },
   "file_extension": ".py",
   "mimetype": "text/x-python",
   "name": "python",
   "nbconvert_exporter": "python",
   "pygments_lexer": "ipython3",
   "version": "3.7.13"
  }
 },
 "nbformat": 4,
 "nbformat_minor": 5
}
