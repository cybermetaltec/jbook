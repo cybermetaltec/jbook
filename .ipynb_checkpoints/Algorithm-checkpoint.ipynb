{
 "cells": [
  {
   "cell_type": "code",
   "execution_count": 7,
   "id": "8f76376b",
   "metadata": {},
   "outputs": [],
   "source": [
    "#https://leetcode-cn.com/problems/move-zeroes/\n",
    "\n",
    "class Solution(object):\n",
    "    def moveZeroes(self, nums):\n",
    "        j = 0\n",
    "        for i in range(len(nums)):\n",
    "            if nums[i] != 0:\n",
    "                nums[j],nums[i] = nums[i],nums[j]\n",
    "                j +=1\n",
    "\n",
    "# nums = [0,1,0,3,12]\n",
    "# nums = []\n",
    "#nums = [0,0,0,0,0,]\n",
    "# s = Solution()\n",
    "# s.moveZeroes(nums)"
   ]
  },
  {
   "cell_type": "code",
   "execution_count": 6,
   "id": "701dcc70",
   "metadata": {
    "scrolled": true
   },
   "outputs": [],
   "source": [
    "#https://leetcode-cn.com/problems/move-zeroes/\n",
    "class Solution:\n",
    "    def moveZeroes(self, nums):\n",
    "        \"\"\"\n",
    "        Do not return anything, modify nums in-place instead.\n",
    "        \"\"\"\n",
    "        nums.sort(key=lambda x:x==0)\n",
    "        \n",
    "# nums = [0,1,0,12,11,5,9,11,7]\n",
    "#nums = []\n",
    "#nums = [0,0,0,0,0,]\n",
    "# s = Solution()\n",
    "# s.moveZeroes(nums)\n",
    "# print(nums)"
   ]
  },
  {
   "cell_type": "code",
   "execution_count": 5,
   "id": "cb75d7b1",
   "metadata": {},
   "outputs": [],
   "source": [
    "#https://leetcode-cn.com/problems/container-with-most-water/\n",
    "class Solution:\n",
    "    def maxArea(self, height):\n",
    "        m,i,j=0,0,len(height)-1\n",
    "        while(i<j):\n",
    "            left,right = height[i], height[j]\n",
    "            print(i,j,left,right)\n",
    "            m = max(min(left,right) * (j-i+1),m)\n",
    "            if left < right:\n",
    "                i+=1\n",
    "            else:\n",
    "                j-=1\n",
    "        return m\n",
    "\n",
    "# height = [1,8,6,2,5,4,8,3,7]\n",
    "# s = Solution()\n",
    "# s.maxArea(height)"
   ]
  },
  {
   "cell_type": "code",
   "execution_count": 41,
   "id": "c389fad9",
   "metadata": {},
   "outputs": [
    {
     "name": "stdout",
     "output_type": "stream",
     "text": [
      "[97, 82, 79, 54, 88, 31, 72, 75, 75, 68, 70, 23, 68, 91, 5, 83, 14, 54, 32, 73, 76, 34, 75, 66, 54, 76, 78, 3, 66, 23, 5, 41, 27, 10, 53, 40, 27, 60, 48, 43, 60, 76, 94, 56, 29, 87, 78, 86, 5, 52, 10, 96, 40, 26, 22, 4, 100, 65, 45, 86, 65, 71, 12, 92, 23, 34, 85, 18, 33, 15, 1, 13, 48, 17, 2, 16, 33, 31, 25, 12, 26, 84, 99, 48, 66, 57, 66, 87, 41, 0, 3, 2, 41, 65, 42, 45, 70, 41, 15, 94]\n"
     ]
    }
   ],
   "source": [
    "# 生产随机数列表\n",
    "# n 生成个数\n",
    "# l，h 生成数字的范围最大和最小\n",
    "import random\n",
    "def genNum(n,l,h):\n",
    "    ret = []\n",
    "    for i in range(n):\n",
    "        ret.append(random.randint(l,h))\n",
    "    return ret\n",
    "print(genNum(100,0,100))    "
   ]
  },
  {
   "cell_type": "code",
   "execution_count": 3,
   "id": "76120dbe",
   "metadata": {},
   "outputs": [],
   "source": [
    "#https://leetcode.com/problems/climbing-stairs/\n",
    "class Solution:\n",
    "    def climbStairs(self, n: int) -> int:\n",
    "        f1,f2,f3 = 1,2,3\n",
    "        for i in range(n-3):\n",
    "            f1 = f2\n",
    "            f2 = f3\n",
    "            f3 = f1 +f2\n",
    "            print(f1,f2,f3)\n",
    "        return f3 if n >3 else n"
   ]
  },
  {
   "cell_type": "code",
   "execution_count": 22,
   "id": "4ee7bfeb",
   "metadata": {},
   "outputs": [],
   "source": [
    "#https://leetcode.cn/problems/two-sum/\n",
    "class Solution:\n",
    "    def twoSum(self, nums, target):\n",
    "        table = dict(zip(nums,range(len(nums))))\n",
    "        for i in range(len(nums)):\n",
    "            search = target - nums[i]\n",
    "            search_index = table.get(search)\n",
    "            if search_index != None and i != search_index :\n",
    "                return [i,search_index]\n",
    "        return []\n",
    "    \n",
    "# nums = [2,7,11,15]\n",
    "# Solution().twoSum(nums,18)"
   ]
  },
  {
   "cell_type": "code",
   "execution_count": 1,
   "id": "8aa87640",
   "metadata": {},
   "outputs": [],
   "source": [
    "#https://leetcode.cn/problems/two-sum/    best\n",
    "from typing import List\n",
    "class Solution:\n",
    "    def twoSum(self, nums: List[int], target: int) -> List[int]:\n",
    "        table = {}\n",
    "        for i,v in enumerate(nums):\n",
    "            check = target - v\n",
    "            if check in table:\n",
    "                return [table.get(check),i]\n",
    "            table[v] = i\n",
    "        return []\n",
    "    \n",
    "# nums = [2,7,11,15]\n",
    "# Solution().twoSum(nums,18)"
   ]
  },
  {
   "cell_type": "code",
   "execution_count": null,
   "id": "371cb80b",
   "metadata": {},
   "outputs": [],
   "source": [
    "from typing import List\n",
    "\n",
    "\n",
    "class Solution:\n",
    "    def threeSum(self, nums: List[int]) -> List[List[int]]:\n",
    "        nums.sort()\n",
    "        i, li = 0, len(nums) - 1\n",
    "        ret = []\n",
    "        while i < li - 1:\n",
    "            j = i + 1\n",
    "            k = li\n",
    "            while j < k:\n",
    "                all = nums[i] + nums[j] + nums[k]\n",
    "                if all < 0:\n",
    "                    j += 1\n",
    "                elif all > 0:\n",
    "                    k -= 1\n",
    "                else:\n",
    "                    ret.append([nums[i], nums[j], nums[k]])\n",
    "                    while j < k and nums[j] == nums[j + 1]:\n",
    "                        j += 1\n",
    "                    while j < k and nums[k] == nums[k - 1]:\n",
    "                        k -= 1\n",
    "                    j += 1\n",
    "                    k -= 1\n",
    "            while li - i > 2 and nums[i] == nums[i + 1]:\n",
    "                i += 1\n",
    "            i += 1\n",
    "        return ret\n",
    "\n",
    "\n",
    "# nums = [-1, 0, 1, 2, -1, -4]\n",
    "nums = [-1, 0, 1, 1, 2, 2, -1, -1, -1, -4]\n",
    "# nums = [-1,0,1,2,-1,-4]\n",
    "# nums = [0, 0, 0, 0, 0]\n",
    "ret = Solution().threeSum(nums)\n",
    "print(ret)"
   ]
  },
  {
   "cell_type": "code",
   "execution_count": 4,
   "id": "89e5defb",
   "metadata": {},
   "outputs": [],
   "source": [
    "#https://leetcode.cn/problems/reverse-linked-list/submissions/\n",
    "\n",
    "# Definition for singly-linked list.\n",
    "class ListNode:\n",
    "    def __init__(self, val=0, next=None):\n",
    "        self.val = val\n",
    "        self.next = next\n",
    "from typing import List\n",
    "class Solution:\n",
    "    def reverseList(self, head: ListNode) -> ListNode:\n",
    "        prev = None\n",
    "        while head:\n",
    "            n = head.next\n",
    "            head.next = prev\n",
    "            prev = head\n",
    "            head = n\n",
    "        return prev"
   ]
  },
  {
   "cell_type": "code",
   "execution_count": 3,
   "id": "3f64c3a3",
   "metadata": {},
   "outputs": [],
   "source": [
    "# https://leetcode.cn/problems/swap-nodes-in-pairs/submissions/\n",
    "\n",
    "# Definition for singly-linked list.\n",
    "class ListNode:\n",
    "    def __init__(self, val=0, next=None):\n",
    "        self.val = val\n",
    "        self.next = next\n",
    "from typing import List\n",
    "class Solution:\n",
    "    def swapPairs(self, head: ListNode) -> ListNode:\n",
    "        if(not head or not head.next): return head\n",
    "        second = head.next\n",
    "        head.next = self.swapPairs(head.next.next)\n",
    "        second.next = head\n",
    "        return second"
   ]
  },
  {
   "cell_type": "code",
   "execution_count": 5,
   "id": "6e42d03c",
   "metadata": {},
   "outputs": [],
   "source": [
    "# https://leetcode.cn/problems/linked-list-cycle-ii/\n",
    "# Definition for singly-linked list.\n",
    "class ListNode:\n",
    "    def __init__(self, x):\n",
    "        self.val = x\n",
    "        self.next = None\n",
    "\n",
    "class Solution:\n",
    "    def detectCycle(self, head: ListNode) -> ListNode:\n",
    "        f,s = head,head\n",
    "        while f and f.next:\n",
    "            f = f.next.next\n",
    "            s = s.next\n",
    "            if f == s:\n",
    "                f =head\n",
    "                while f != s:\n",
    "                    f = f.next\n",
    "                    s = s.next\n",
    "                return s\n",
    "        return None"
   ]
  },
  {
   "cell_type": "code",
   "execution_count": 8,
   "id": "a86fb47e",
   "metadata": {},
   "outputs": [],
   "source": [
    "# https://leetcode.cn/problems/reverse-nodes-in-k-group/submissions/\n",
    "# Definition for singly-linked list.\n",
    "# class ListNode:\n",
    "#     def __init__(self, val=0, next=None):\n",
    "#         self.val = val\n",
    "#         self.next = next\n",
    "from typing import List, Optional\n",
    "def reveseList(head,tail):\n",
    "    prev = None\n",
    "    while head and head is not tail:\n",
    "        n = head.next\n",
    "        head.next = prev\n",
    "        prev = head\n",
    "        head = n\n",
    "    return prev\n",
    "\n",
    "class Solution:\n",
    "    def reverseKGroup(self, head: Optional[ListNode], k: int) -> Optional[ListNode]:\n",
    "        if not head or not head.next: return head\n",
    "        tail = head\n",
    "        for i in range(k):\n",
    "            if(tail == None):return head\n",
    "            tail = tail.next\n",
    "        newHead = reveseList(head,tail)\n",
    "        head.next = self.reverseKGroup(tail,k)\n",
    "        return newHead\n",
    "\n"
   ]
  },
  {
   "cell_type": "code",
   "execution_count": 7,
   "id": "e3be2296",
   "metadata": {},
   "outputs": [
    {
     "name": "stdout",
     "output_type": "stream",
     "text": [
      "1->2->3->4->5->6->7->8->None\n"
     ]
    }
   ],
   "source": [
    "from typing import List, Optional\n",
    "\n",
    "\n",
    "# Definition for singly-linked list.\n",
    "class ListNode:\n",
    "    def __init__(self, val=0, next=None):\n",
    "        self.val = val\n",
    "        self.next = next\n",
    "\n",
    "    def __str__(self):\n",
    "        return str(self.val) + '->' + str(self.next)\n",
    "\n",
    "    def __repr__(self):\n",
    "        return self.val\n",
    "\n",
    "\n",
    "def genLinkNode(numbers: List[int]):\n",
    "    ret = []\n",
    "    if not len(numbers): return None\n",
    "    for i in range(len(numbers)):\n",
    "        ret.append(ListNode(numbers[i]))\n",
    "    for i in range(len(ret) - 1):\n",
    "        if ret[i + 1]:\n",
    "            ret[i].next = ret[i + 1]\n",
    "    return ret[0]\n",
    "\n",
    "\n",
    "test = genLinkNode([1, 2, 3, 4, 5, 6, 7, 8])\n",
    "print(test)\n",
    "\n"
   ]
  },
  {
   "cell_type": "code",
   "execution_count": 9,
   "id": "d89e3067",
   "metadata": {},
   "outputs": [
    {
     "name": "stdout",
     "output_type": "stream",
     "text": [
      "[1, 3, 4, 5, 6, 7, 4, 4, 5, 5, 6, 7] [1, 3, 4, 5, 6, 7]\n"
     ]
    }
   ],
   "source": [
    "#https://leetcode.cn/problems/remove-duplicates-from-sorted-array/submissions/\n",
    "from typing import List\n",
    "class Solution:\n",
    "    def removeDuplicates(self, nums: List[int]) -> int:\n",
    "        j = 1 \n",
    "        for i in range(1,len(nums)):\n",
    "            if nums[i] !=nums[i-1]:\n",
    "                nums[j] = nums[i]\n",
    "                j+=1\n",
    "        return j if len(nums) else 0\n",
    "nums = [1,1,3,3,3,4,4,4,5,5,6,7]\n",
    "ret = Solution().removeDuplicates(nums)\n",
    "print(nums,nums[:ret])"
   ]
  },
  {
   "cell_type": "code",
   "execution_count": 10,
   "id": "371c5d8e",
   "metadata": {},
   "outputs": [],
   "source": [
    "#https://leetcode.cn/problems/rotate-array/solution/\n",
    "from typing import List\n",
    "def reverse(nums: List[int],start:int,end:int):\n",
    "    while start < end:\n",
    "        nums[start],nums[end] = nums[end],nums[start]\n",
    "        start += 1\n",
    "        end -= 1\n",
    "\n",
    "class Solution:\n",
    "    def rotate(self, nums: List[int], k: int) -> None:\n",
    "        k = k % len(nums)\n",
    "        reverse(nums,0,len(nums)-1)\n",
    "        reverse(nums,0,k-1)\n",
    "        reverse(nums,k,len(nums)-1)"
   ]
  },
  {
   "cell_type": "code",
   "execution_count": 11,
   "id": "4021457b",
   "metadata": {},
   "outputs": [],
   "source": [
    "#https://leetcode.cn/problems/rotate-array/solution/\n",
    "\n",
    "\n",
    "class Solution:\n",
    "    def rotate(self, nums: List[int], k: int) -> None:\n",
    "        k = k % len(nums)\n",
    "        nums[:] = nums[::-1]\n",
    "        nums[:k] = nums [:k][::-1]\n",
    "        nums[k:] = nums [k:][::-1]\n",
    "        \n",
    "class Solution:\n",
    "    def rotate(self, nums: List[int], k: int) -> None:\n",
    "        k = k % len(nums)\n",
    "        for i in range(k):\n",
    "            nums.insert(0,nums.pop())"
   ]
  },
  {
   "cell_type": "code",
   "execution_count": 14,
   "id": "05ecdf76",
   "metadata": {},
   "outputs": [],
   "source": [
    "#https://leetcode.cn/problems/merge-two-sorted-lists/solution/\n",
    "from typing import List,Optional\n",
    "\n",
    "class ListNode:\n",
    "    def __init__(self, val=0, next=None):\n",
    "        self.val = val\n",
    "        self.next = next\n",
    "class Solution:\n",
    "    def mergeTwoLists(self, list1: Optional[ListNode], list2: Optional[ListNode]) -> Optional[ListNode]:\n",
    "        vnode = ListNode()\n",
    "        prev = vnode\n",
    "        while list1  and list2:\n",
    "            if list1.val < list2.val:\n",
    "                prev.next = list1\n",
    "                list1 = list1.next\n",
    "            else:\n",
    "                prev.next = list2\n",
    "                list2 = list2.next\n",
    "            prev = prev.next\n",
    "        \n",
    "        if list1 != None: prev.next = list1\n",
    "        if list2 != None: prev.next = list2\n",
    "        return vnode.next\n",
    "    \n",
    "class Solution2:\n",
    "    def mergeTwoLists(self, list1: Optional[ListNode], list2: Optional[ListNode]) -> Optional[ListNode]:\n",
    "        if list1 and list2:\n",
    "            if list1.val > list2.val:\n",
    "                list1,list2 = list2,list1\n",
    "            list1.next = self.mergeTwoLists(list1.next,list2)\n",
    "        return list1 or list2"
   ]
  },
  {
   "cell_type": "code",
   "execution_count": 15,
   "id": "d7af7c89",
   "metadata": {},
   "outputs": [],
   "source": [
    "#https://leetcode.cn/problems/merge-sorted-array/submissions/\n",
    "from typing import List\n",
    "\n",
    "class Solution:\n",
    "    def merge(self, nums1: List[int], m: int, nums2: List[int], n: int) -> None:\n",
    "        \"\"\"\n",
    "        Do not return anything, modify nums1 in-place instead.\n",
    "        \"\"\"\n",
    "        tail = m + n -1\n",
    "        m -=1\n",
    "        n -=1\n",
    "        while n >= 0:\n",
    "            if m >=0 and nums1[m] > nums2[n]:\n",
    "                nums1[tail] = nums1[m]\n",
    "                m -=1\n",
    "            else:\n",
    "               nums1[tail] = nums2[n]\n",
    "               n -=1\n",
    "            tail -=1"
   ]
  },
  {
   "cell_type": "code",
   "execution_count": 8,
   "id": "6c5f85e4",
   "metadata": {},
   "outputs": [],
   "source": [
    "#https://leetcode.cn/problems/plus-one/solution/\n",
    "from typing import List\n",
    "class Solution:\n",
    "    def plusOne(self, digits: List[int]) -> List[int]:\n",
    "        for i in range(len(digits)):\n",
    "            if digits[-i-1] == 9: \n",
    "                digits[-i-1] = 0\n",
    "            else:\n",
    "                digits[-i-1] +=1\n",
    "                break\n",
    "        if digits[0] == 0:\n",
    "            digits.append(0)\n",
    "            digits[0] = 1\n",
    "        return digits"
   ]
  },
  {
   "cell_type": "code",
   "execution_count": 7,
   "id": "d190ccf6",
   "metadata": {},
   "outputs": [
    {
     "data": {
      "text/plain": [
       "True"
      ]
     },
     "execution_count": 7,
     "metadata": {},
     "output_type": "execute_result"
    }
   ],
   "source": [
    "#https://leetcode.cn/problems/valid-parentheses/solution/\n",
    "\n",
    "from collections import deque\n",
    "class Solution:\n",
    "    def isValid(self, s: str) -> bool:\n",
    "        stuck = [\"_\"]\n",
    "        dic = {\")\":\"(\",\"]\":\"[\",\"}\":\"{\"}\n",
    "        for i in s:\n",
    "            if i in dic:\n",
    "                if stuck.pop() != dic[i]:return False\n",
    "            else:\n",
    "                stuck.append(i)\n",
    "        return len(stuck) == 1\n",
    "Solution().isValid(\"()[]{}\")"
   ]
  },
  {
   "cell_type": "code",
   "execution_count": 15,
   "id": "0ce1f563",
   "metadata": {},
   "outputs": [
    {
     "data": {
      "text/plain": [
       "9223372036854775807"
      ]
     },
     "execution_count": 15,
     "metadata": {},
     "output_type": "execute_result"
    }
   ],
   "source": [
    "import sys\n",
    "sys.maxsize"
   ]
  },
  {
   "cell_type": "code",
   "execution_count": 21,
   "id": "9b06b29b",
   "metadata": {},
   "outputs": [
    {
     "name": "stdout",
     "output_type": "stream",
     "text": [
      "inf\n"
     ]
    }
   ],
   "source": [
    "import math\n",
    "print(str(math.inf))"
   ]
  },
  {
   "cell_type": "code",
   "execution_count": 23,
   "id": "08f35970",
   "metadata": {},
   "outputs": [],
   "source": [
    "#https://leetcode.cn/problems/min-stack/submissions/\n",
    "class MinStack:\n",
    "\n",
    "    def __init__(self):\n",
    "        self.stuck = []\n",
    "\n",
    "    def push(self, val: int) -> None:\n",
    "        self.stuck.append(val)\n",
    "        self.min.append(min(self.min[-1],val))\n",
    "\n",
    "    def pop(self) -> None:\n",
    "        self.stuck.pop()\n",
    "        self.min.pop()\n",
    "\n",
    "    def top(self) -> int:\n",
    "        return self.stuck[-1]\n",
    "\n",
    "    def getMin(self) -> int:\n",
    "        return self.min[-1]\n",
    "    \n",
    "class MinStack2:\n",
    "\n",
    "    def __init__(self):\n",
    "        self.stuck = []\n",
    "\n",
    "    def push(self, val: int) -> None:\n",
    "        if not len(self.stuck):\n",
    "            self.stuck.append((val,val))\n",
    "        else:\n",
    "            self.stuck.append((val,min(val,self.stuck[-1][1])))\n",
    "\n",
    "\n",
    "    def pop(self) -> None:\n",
    "        self.stuck.pop()\n",
    "\n",
    "    def top(self) -> int:\n",
    "        return self.stuck[-1][0]\n",
    "\n",
    "    def getMin(self) -> int:\n",
    "        return self.stuck[-1][1]"
   ]
  },
  {
   "cell_type": "code",
   "execution_count": 1,
   "id": "96767b21",
   "metadata": {},
   "outputs": [
    {
     "name": "stdout",
     "output_type": "stream",
     "text": [
      "[0, 2]\n",
      "2\n"
     ]
    }
   ],
   "source": [
    "#https://leetcode.cn/problems/largest-rectangle-in-histogram/\n",
    "from typing import List\n",
    "\n",
    "\n",
    "class Solution:\n",
    "    def largestRectangleArea(self, heights: List[int]) -> int:\n",
    "        stuck, mx = [], 0\n",
    "        heights = [0] + heights + [0]\n",
    "        for i in range(len(heights)):\n",
    "            while stuck and heights[i] < heights[stuck[-1]]:\n",
    "                index = stuck.pop()\n",
    "                mx = max((i - stuck[-1] - 1) * heights[index], mx)\n",
    "            stuck.append(i)\n",
    "        print(stuck)\n",
    "        return mx\n",
    "\n",
    "\n",
    "nums = [2]\n",
    "ret = Solution().largestRectangleArea(nums)\n",
    "print(ret)\n"
   ]
  },
  {
   "cell_type": "code",
   "execution_count": 2,
   "id": "81d5aeb7",
   "metadata": {},
   "outputs": [
    {
     "name": "stdout",
     "output_type": "stream",
     "text": [
      "Wall time: 0 ns\n"
     ]
    },
    {
     "name": "stderr",
     "output_type": "stream",
     "text": [
      "UsageError: Line magic function `%%time` not found.\n"
     ]
    }
   ],
   "source": [
    "# %time # 对当前行的代码执行进行计时\n",
    "# %%time  # 对当前整个cell的代码执行进行计时，要求改命令位于整个cell的首行\n",
    "# %lsmagic  打印输出所有魔法命令：\n",
    "# 其中对！魔法命令的解释为“OSMagics”，意味着这是一个与系统有关的命令，实际上可以用！+linux命令实现在jupyter中执行相应linux命令的效果。\n",
    "# 灵活使用!ls功能，将当前文件夹内的所有文件赋予给指定列表接收，避免一个个文件名的复制粘贴过程。\n",
    "# 例如，假设当前文件夹中存在很多csv或其他格式的数据文件，用如下命令实现文件名的列表化还是比较方便的"
   ]
  },
  {
   "cell_type": "code",
   "execution_count": 3,
   "id": "4b83b6e9",
   "metadata": {},
   "outputs": [
    {
     "name": "stdout",
     "output_type": "stream",
     "text": [
      "[1, -1]\n"
     ]
    }
   ],
   "source": [
    "from collections import deque\n",
    "from typing import List\n",
    "\n",
    "\n",
    "class Solution:\n",
    "    def maxSlidingWindow(self, nums: List[int], k: int) -> List[int]:\n",
    "        q, ret = deque(), []\n",
    "        for i in range(len(nums)):\n",
    "            while q and nums[i] > nums[q[-1]]:\n",
    "                q.pop()\n",
    "            q.append(i)\n",
    "            if i - q[0] >= k:\n",
    "                q.popleft()\n",
    "            if i >= k - 1:\n",
    "                ret.append(nums[q[0]])\n",
    "        return ret\n",
    "\n",
    "\n",
    "# nums = [1, 3, -1, -3, 5, 3, 6, 7]\n",
    "# size = 3\n",
    "\n",
    "nums = [1,-1]\n",
    "size = 1\n",
    "print(Solution().maxSlidingWindow(nums, size))\n"
   ]
  },
  {
   "cell_type": "code",
   "execution_count": 4,
   "id": "6b855290",
   "metadata": {},
   "outputs": [
    {
     "ename": "SyntaxError",
     "evalue": "invalid syntax (2259567098.py, line 2)",
     "output_type": "error",
     "traceback": [
      "\u001b[1;36m  File \u001b[1;32m\"C:\\Users\\tbug\\AppData\\Local\\Temp\\ipykernel_10592\\2259567098.py\"\u001b[1;36m, line \u001b[1;32m2\u001b[0m\n\u001b[1;33m    def __init__(self,v=0:int,next=None:LinkedNode):\u001b[0m\n\u001b[1;37m                         ^\u001b[0m\n\u001b[1;31mSyntaxError\u001b[0m\u001b[1;31m:\u001b[0m invalid syntax\n"
     ]
    }
   ],
   "source": [
    "class LinkedNode:\n",
    "    def __init__(self,v=0:int,next=None:LinkedNode):\n",
    "        self.value = v\n",
    "        self.next = next"
   ]
  },
  {
   "cell_type": "code",
   "execution_count": 6,
   "id": "a949e89c",
   "metadata": {},
   "outputs": [
    {
     "name": "stdout",
     "output_type": "stream",
     "text": [
      "[('MyCircularDeque', [77]), ('insertFront', [89]), ('getRear', []), ('deleteLast', []), ('getRear', []), ('insertFront 19', [19]), ('insertFront 23', [23]), ('insertFront 23', [23]), ('insertFront 82', [82]), ('isFull', []), ('insertFront 45', [45]), ('isFull', []), ('getRear', []), ('deleteLast', []), ('getFront', []), ('getFront', []), ('insertLast', [74]), ('deleteFront', []), ('getFront', []), ('insertLast', [98]), ('getRear', []), ('insertLast', [99]), ('getRear', []), ('getFront', []), ('getFront', []), ('getFront', []), ('getRear', []), ('getRear', []), ('insertFront', [8]), ('getFront', []), ('getFront', []), ('getFront', []), ('getFront', []), ('deleteFront', []), ('insertFront', [75]), ('getFront', []), ('deleteLast', []), ('insertLast', [35]), ('insertLast', [59]), ('getRear', []), ('getRear', []), ('getRear', []), ('isEmpty', []), ('insertFront', [22]), ('deleteLast', []), ('getFront', []), ('deleteLast', []), ('getRear', []), ('getFront', []), ('isFull', []), ('isFull', []), ('deleteFront', []), ('getFront', []), ('deleteLast', []), ('getRear', []), ('insertFront', [21]), ('getFront', []), ('insertFront', [26]), ('insertFront', [63]), ('getRear', []), ('isFull', []), ('getFront', []), ('getFront', []), ('insertFront', [87]), ('insertLast', [76]), ('getRear', []), ('getRear', []), ('deleteLast', []), ('insertFront', [26]), ('getRear', []), ('insertLast', [67]), ('getFront', []), ('getFront', []), ('getFront', []), ('getRear', []), ('insertFront', [36]), ('isEmpty', []), ('getFront', []), ('getFront', []), ('insertFront', [72]), ('deleteFront', []), ('insertFront', [87]), ('deleteLast', []), ('getFront', []), ('getRear', []), ('getFront', []), ('insertFront', [85]), ('getFront', []), ('deleteFront', []), ('insertFront', [91]), ('isEmpty', []), ('getRear', []), ('getRear', []), ('getRear', []), ('getRear', []), ('deleteFront', []), ('getRear', []), ('isEmpty', []), ('deleteFront', []), ('insertFront', [34]), ('insertLast', [44]), ('deleteLast', [])]\n"
     ]
    }
   ],
   "source": [
    "funcs = [\"MyCircularDeque\", \"insertFront\", \"getRear\", \"deleteLast\", \"getRear\", \"insertFront 19\", \"insertFront 23\", \"insertFront 23\",\n",
    " \"insertFront 82\", \"isFull\", \"insertFront 45\", \"isFull\", \"getRear\", \"deleteLast\", \"getFront\", \"getFront\", \"insertLast\",\n",
    " \"deleteFront\", \"getFront\", \"insertLast\", \"getRear\", \"insertLast\", \"getRear\", \"getFront\", \"getFront\", \"getFront\",\n",
    " \"getRear\", \"getRear\", \"insertFront\", \"getFront\", \"getFront\", \"getFront\", \"getFront\", \"deleteFront\", \"insertFront\",\n",
    " \"getFront\", \"deleteLast\", \"insertLast\", \"insertLast\", \"getRear\", \"getRear\", \"getRear\", \"isEmpty\", \"insertFront\",\n",
    " \"deleteLast\", \"getFront\", \"deleteLast\", \"getRear\", \"getFront\", \"isFull\", \"isFull\", \"deleteFront\", \"getFront\",\n",
    " \"deleteLast\", \"getRear\", \"insertFront\", \"getFront\", \"insertFront\", \"insertFront\", \"getRear\", \"isFull\", \"getFront\",\n",
    " \"getFront\", \"insertFront\", \"insertLast\", \"getRear\", \"getRear\", \"deleteLast\", \"insertFront\", \"getRear\", \"insertLast\",\n",
    " \"getFront\", \"getFront\", \"getFront\", \"getRear\", \"insertFront\", \"isEmpty\", \"getFront\", \"getFront\", \"insertFront\",\n",
    " \"deleteFront\", \"insertFront\", \"deleteLast\", \"getFront\", \"getRear\", \"getFront\", \"insertFront\", \"getFront\",\n",
    " \"deleteFront\", \"insertFront\", \"isEmpty\", \"getRear\", \"getRear\", \"getRear\", \"getRear\", \"deleteFront\", \"getRear\",\n",
    " \"isEmpty\", \"deleteFront\", \"insertFront\", \"insertLast\", \"deleteLast\"]\n",
    "params = [[77], [89], [], [], [], [19], [23], [23], [82], [], [45], [], [], [], [], [], [74], [], [], [98], [], [99], [], [], [],\n",
    " [], [], [], [8], [], [], [], [], [], [75], [], [], [35], [59], [], [], [], [], [22], [], [], [], [], [], [], [], [],\n",
    " [], [], [], [21], [], [26], [63], [], [], [], [], [87], [76], [], [], [], [26], [], [67], [], [], [], [], [36], [], [],\n",
    " [], [72], [], [87], [], [], [], [], [85], [], [], [91], [], [], [], [], [], [], [], [], [], [34], [44], []]\n",
    "print(list(zip(funcs,params)))"
   ]
  },
  {
   "cell_type": "code",
   "execution_count": 1,
   "id": "8c7aae08",
   "metadata": {},
   "outputs": [
    {
     "name": "stdout",
     "output_type": "stream",
     "text": [
      "89->None\n",
      "None\n"
     ]
    },
    {
     "data": {
      "text/plain": [
       "-1"
      ]
     },
     "execution_count": 1,
     "metadata": {},
     "output_type": "execute_result"
    }
   ],
   "source": [
    "#https://leetcode.cn/problems/design-circular-deque/submissions/\n",
    "class LinkedNode:\n",
    "    def __init__(self, v=0, next=None):\n",
    "        self.value = v\n",
    "        self.next = next\n",
    "        self.prev = None\n",
    "\n",
    "    def __str__(self):\n",
    "        return f'{self.value}->{self.next}'\n",
    "\n",
    "\n",
    "class MyCircularDeque:\n",
    "    def __str__(self):\n",
    "        return str(self.head)\n",
    "\n",
    "    def __init__(self, k: int):\n",
    "        self.maxsize = k\n",
    "        self.size = 0\n",
    "        self.head = None\n",
    "        self.tail = None\n",
    "\n",
    "    def insertFront(self, value: int) -> bool:\n",
    "        if self.size < self.maxsize:\n",
    "            node = LinkedNode(value, self.head)\n",
    "            if self.size:\n",
    "                node.next = self.head\n",
    "                node.next.prev = node\n",
    "            else:\n",
    "                self.tail = node\n",
    "            self.head = node\n",
    "            self.size += 1\n",
    "            return True\n",
    "        else:\n",
    "            return False\n",
    "\n",
    "    def insertLast(self, value: int) -> bool:\n",
    "        if self.size < self.maxsize:\n",
    "            node = LinkedNode(value)\n",
    "            if self.size:\n",
    "                node.prev = self.tail\n",
    "                node.prev.next = node\n",
    "            else:\n",
    "                self.head = node\n",
    "            self.tail = node\n",
    "            self.size += 1\n",
    "            return True\n",
    "        else:\n",
    "            return False\n",
    "\n",
    "    def deleteFront(self) -> bool:\n",
    "        if self.head is not self.tail:\n",
    "            oldhead = self.head\n",
    "            self.head = oldhead.next\n",
    "            self.head.prev = None\n",
    "            oldhead.next = None\n",
    "            self.size -= 1\n",
    "        elif self.head:\n",
    "            self.head = None\n",
    "            self.tail = None\n",
    "            self.size = 0\n",
    "        else:\n",
    "            return False\n",
    "        return True\n",
    "\n",
    "    def deleteLast(self) -> bool:\n",
    "        if self.tail is not self.head:\n",
    "            prev = self.tail.prev\n",
    "            self.tail.prev = None\n",
    "            prev.next = None\n",
    "            self.tail = prev\n",
    "            self.size -= 1\n",
    "        elif self.tail:\n",
    "            self.head = None\n",
    "            self.tail = None\n",
    "            self.size = 0\n",
    "        else:\n",
    "            return False\n",
    "        return True\n",
    "\n",
    "    def getFront(self) -> int:\n",
    "        return self.head.value if self.head else -1\n",
    "\n",
    "    def getRear(self) -> int:\n",
    "        return self.tail.value if self.tail else -1\n",
    "\n",
    "    def isEmpty(self) -> bool:\n",
    "        return self.size == 0\n",
    "\n",
    "    def isFull(self) -> bool:\n",
    "        return self.size == self.maxsize\n",
    "\n",
    "\n",
    "# Your MyCircularDeque object will be instantiated and called as such:\n",
    "obj = MyCircularDeque(77)\n",
    "obj.insertFront(89)\n",
    "print(obj.tail)\n",
    "obj.deleteLast()\n",
    "print(obj.head)\n",
    "obj.getRear()"
   ]
  },
  {
   "cell_type": "code",
   "execution_count": 3,
   "id": "3481f02c",
   "metadata": {},
   "outputs": [
    {
     "name": "stdout",
     "output_type": "stream",
     "text": [
      "0\n"
     ]
    }
   ],
   "source": [
    "#https://leetcode.cn/problems/trapping-rain-water/submissions/\n",
    "from typing import List\n",
    "class Solution:\n",
    "    def trap(self, height: List[int]) -> int:\n",
    "        stuck, ans = [], 0\n",
    "        for i in range(len(height)):\n",
    "            while stuck and height[i] > height[stuck[-1]]:\n",
    "                lowest = height[stuck.pop()]\n",
    "                if stuck:\n",
    "                    left = stuck[-1]\n",
    "                    width = i - left - 1\n",
    "                    h = min(height[i], height[left]) - lowest\n",
    "                    ans += width * h\n",
    "            stuck.append(i)\n",
    "        return ans\n",
    "\n",
    "\n",
    "# nums = [0, 1, 0, 2, 1, 0, 1, 3, 2, 1, 2, 1]\n",
    "# nums = [4,2,0,3,2,5]\n",
    "nums = [1]\n",
    "print(Solution().trap(nums))"
   ]
  },
  {
   "cell_type": "code",
   "execution_count": 11,
   "id": "0d563931",
   "metadata": {},
   "outputs": [],
   "source": [
    "from typing import List,Optional\n",
    "#二叉树遍历\n",
    "#前序 根左右\n",
    "# Definition for a binary tree node.\n",
    "class TreeNode:\n",
    "    def __init__(self, val=0, left=None, right=None):\n",
    "        self.val = val\n",
    "        self.left = left\n",
    "        self.right = right\n",
    "# class Solution:\n",
    "#     def preorderTraversal(self, root: Optional[TreeNode]) -> List[int]:\n",
    "#         return [root.val]+self.preorderTraversal(root.left)+self.preorderTraversal(root.right) if root else []\n",
    "\n",
    "class Solution:\n",
    "    def preorderTraversal(self, root: Optional[TreeNode]) -> List[int]:\n",
    "        ret,stuck = [],[]\n",
    "        while root or stuck:\n",
    "            while root:\n",
    "                ret.append(root.val)\n",
    "                stuck.append(root)\n",
    "                root = root.left\n",
    "            root = stuck.pop().right\n",
    "        return ret\n",
    "#中序 左根右\n",
    "# Definition for a binary tree node.\n",
    "# class TreeNode:\n",
    "#     def __init__(self, val=0, left=None, right=None):\n",
    "#         self.val = val\n",
    "#         self.left = left\n",
    "#         self.right = right\n",
    "# class Solution:\n",
    "#     def inorderTraversal(self, root: Optional[TreeNode]) -> List[int]:\n",
    "#         ret = []\n",
    "#         if root:\n",
    "#             ret = self.inorderTraversal(root.left) + [root.val] + self.inorderTraversal(root.right)\n",
    "#         return ret\n",
    "\n",
    "class Solution:\n",
    "    def inorderTraversal(self, root: Optional[TreeNode]) -> List[int]:\n",
    "        ret,stuck = [],[]\n",
    "        while root or stuck:\n",
    "            while root:\n",
    "                stuck.append(root)\n",
    "                root = root.left\n",
    "            root = stuck.pop()\n",
    "            ret.append(root.val)\n",
    "            root = root.right\n",
    "        return ret\n",
    "#后序 左右根\n",
    "class Solution:\n",
    "    def postorderTraversal(self, root: Optional[TreeNode]) -> List[int]:\n",
    "        res,stuck = [],[root]\n",
    "        while stuck:\n",
    "            node = stuck.pop()\n",
    "            if isinstance(node,TreeNode):\n",
    "                stuck.extend([node.val,node.right,node.left])\n",
    "            elif isinstance(node,int):\n",
    "                res.append(node)\n",
    "        return res"
   ]
  },
  {
   "cell_type": "code",
   "execution_count": 12,
   "id": "c95aa39b",
   "metadata": {},
   "outputs": [],
   "source": [
    "\"\"\"\n",
    "# Definition for a Node.\n",
    "class Node:\n",
    "    def __init__(self, val=None, children=None):\n",
    "        self.val = val\n",
    "        self.children = children\n",
    "\"\"\"\n",
    "#https://leetcode.cn/problems/n-ary-tree-postorder-traversal/comments/\n",
    "from typing import List,Optional\n",
    "class Solution:\n",
    "    def postorder(self, root: 'Node') -> List[int]:\n",
    "        res,stuck = [],[root]\n",
    "        while stuck:\n",
    "            n = stuck.pop()\n",
    "            if isinstance(n,Node):\n",
    "                children = n.children or []\n",
    "                stuck.append(n.val)\n",
    "                stuck.extend(children[::-1])\n",
    "            elif isinstance(n,int):\n",
    "                res.append(n)\n",
    "        return res"
   ]
  },
  {
   "cell_type": "code",
   "execution_count": null,
   "id": "ca863357",
   "metadata": {},
   "outputs": [],
   "source": []
  }
 ],
 "metadata": {
  "kernelspec": {
   "display_name": "Python 3 (ipykernel)",
   "language": "python",
   "name": "python3"
  },
  "language_info": {
   "codemirror_mode": {
    "name": "ipython",
    "version": 3
   },
   "file_extension": ".py",
   "mimetype": "text/x-python",
   "name": "python",
   "nbconvert_exporter": "python",
   "pygments_lexer": "ipython3",
   "version": "3.7.13"
  }
 },
 "nbformat": 4,
 "nbformat_minor": 5
}
