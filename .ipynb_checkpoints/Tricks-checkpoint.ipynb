{
 "cells": [
  {
   "cell_type": "code",
   "execution_count": 3,
   "id": "ad6835b0",
   "metadata": {},
   "outputs": [
    {
     "data": {
      "text/plain": [
       "[('d', 1), ('c', 2), ('b', 3), ('a', 4)]"
      ]
     },
     "execution_count": 3,
     "metadata": {},
     "output_type": "execute_result"
    }
   ],
   "source": [
    "# How to sort a Python dict by value\n",
    "# (== get a representation sorted by value)\n",
    "xs = {'a': 4, 'b': 3, 'c': 2, 'd': 1}\n",
    "sorted(xs.items(), key=lambda x: x[1])\n",
    "# Or:\n",
    "import operator\n",
    "sorted(xs.items(), key=operator.itemgetter(1))\n"
   ]
  },
  {
   "cell_type": "code",
   "execution_count": 4,
   "id": "b378ef86",
   "metadata": {},
   "outputs": [
    {
     "name": "stdout",
     "output_type": "stream",
     "text": [
      "passed\n",
      "passed\n",
      "passed\n",
      "passed\n"
     ]
    }
   ],
   "source": [
    "# Different ways to test multiple\n",
    "# flags at once in Python\n",
    "x, y, z = 0, 1, 0\n",
    "\n",
    "if x == 1 or y == 1 or z == 1:\n",
    "    print('passed')\n",
    "\n",
    "if 1 in (x, y, z):\n",
    "    print('passed')\n",
    "\n",
    "# These only test for truthiness:\n",
    "if x or y or z:\n",
    "    print('passed')\n",
    "\n",
    "if any((x, y, z)):\n",
    "    print('passed')"
   ]
  },
  {
   "cell_type": "code",
   "execution_count": 5,
   "id": "8d4b93b7",
   "metadata": {},
   "outputs": [
    {
     "data": {
      "text/plain": [
       "{'a': 1, 'c': 4, 'b': 3}"
      ]
     },
     "execution_count": 5,
     "metadata": {},
     "output_type": "execute_result"
    }
   ],
   "source": [
    "# How to merge two dictionaries\n",
    "# in Python 3.5+\n",
    "\n",
    "x = {'a': 1, 'b': 2}\n",
    "y = {'b': 3, 'c': 4}\n",
    "\n",
    "z = {**x, **y}\n",
    "\n",
    "z\n",
    "{'c': 4, 'a': 1, 'b': 3}\n",
    "\n",
    "# In Python 2.x you could\n",
    "# use this:\n",
    "z = dict(x, **y)\n",
    "z\n",
    "{'a': 1, 'c': 4, 'b': 3}\n",
    "\n",
    "# In these examples, Python merges dictionary keys\n",
    "# in the order listed in the expression, overwriting \n",
    "# duplicates from left to right.\n",
    "#\n",
    "# See: https://www.youtube.com/watch?v=Duexw08KaC8"
   ]
  },
  {
   "cell_type": "code",
   "execution_count": 6,
   "id": "459676c7",
   "metadata": {},
   "outputs": [
    {
     "data": {
      "text/plain": [
       "(__main__.A,\n",
       " __main__.B,\n",
       " __main__.C,\n",
       " __main__.D,\n",
       " __main__.E,\n",
       " __main__.F,\n",
       " object)"
      ]
     },
     "execution_count": 6,
     "metadata": {},
     "output_type": "execute_result"
    }
   ],
   "source": [
    "class D:\n",
    "    pass\n",
    "class E:\n",
    "    pass\n",
    "class F:\n",
    "    pass\n",
    "class B(D,E):\n",
    "    pass\n",
    "class C(D,F):\n",
    "    pass\n",
    "class A(B,C):\n",
    "    pass\n",
    "A.__mro__"
   ]
  },
  {
   "cell_type": "code",
   "execution_count": 5,
   "id": "7f827af0",
   "metadata": {},
   "outputs": [
    {
     "data": {
      "text/plain": [
       "(__main__.D, __main__.C, __main__.B, __main__.A, object)"
      ]
     },
     "execution_count": 5,
     "metadata": {},
     "output_type": "execute_result"
    }
   ],
   "source": [
    "class A:\n",
    "    pass\n",
    "class B(A):\n",
    "    pass\n",
    "class C(A):\n",
    "    pass\n",
    "class D(C,B):\n",
    "    pass\n",
    "D.__mro__"
   ]
  },
  {
   "cell_type": "code",
   "execution_count": 7,
   "id": "18eb4970",
   "metadata": {},
   "outputs": [],
   "source": [
    "# 新式类__mro_是c3算法，没有菱形继承是深度优先，有菱形是广度优先"
   ]
  },
  {
   "cell_type": "code",
   "execution_count": 3,
   "id": "9d408046",
   "metadata": {},
   "outputs": [
    {
     "data": {
      "text/plain": [
       "Car(color='red', mileage=3812.4)"
      ]
     },
     "execution_count": 3,
     "metadata": {},
     "output_type": "execute_result"
    }
   ],
   "source": [
    "# Why Python is Great: Namedtuples\n",
    "# Using namedtuple is way shorter than\n",
    "# defining a class manually:\n",
    "from collections import namedtuple\n",
    "Car = namedtuple('Car', 'color mileage')\n",
    "\n",
    "# Our new \"Car\" class works as expected:\n",
    "my_car = Car('red', 3812.4)\n",
    "my_car.color\n",
    "'red'\n",
    "my_car.mileage\n",
    "3812.4\n",
    "\n",
    "# We get a nice string repr for free:\n",
    "my_car\n",
    "Car(color='red' , mileage=3812.4)\n",
    "\n",
    "# Like tuples, namedtuples are immutable:\n",
    "# my_car.color = 'blue'\n",
    "# AttributeError: \"can't set attribute\""
   ]
  },
  {
   "cell_type": "code",
   "execution_count": null,
   "id": "317b59fc",
   "metadata": {},
   "outputs": [],
   "source": []
  }
 ],
 "metadata": {
  "kernelspec": {
   "display_name": "Python 3 (ipykernel)",
   "language": "python",
   "name": "python3"
  },
  "language_info": {
   "codemirror_mode": {
    "name": "ipython",
    "version": 3
   },
   "file_extension": ".py",
   "mimetype": "text/x-python",
   "name": "python",
   "nbconvert_exporter": "python",
   "pygments_lexer": "ipython3",
   "version": "3.7.13"
  }
 },
 "nbformat": 4,
 "nbformat_minor": 5
}
